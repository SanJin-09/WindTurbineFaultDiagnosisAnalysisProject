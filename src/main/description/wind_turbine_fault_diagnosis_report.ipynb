{
 "cells": [
  {
   "cell_type": "markdown",
   "id": "3955e3d8",
   "metadata": {},
   "source": [
    "# 风力涡轮机故障诊断报告\n",
    "\n",
    "本报告基于提供的模块化 Python 代码，展示从数据加载、预处理、特征工程、模型训练到结果汇总的完整流程。"
   ]
  },
  {
   "cell_type": "markdown",
   "id": "021ce273",
   "metadata": {},
   "source": [
    "## 1. 配置参数加载\n",
    "\n",
    " `config.py` 中负责加载各项系统参数，后续可灵活调整。"
   ]
  },
  {
   "cell_type": "code",
   "execution_count": null,
   "id": "178bce09",
   "metadata": {},
   "outputs": [],
   "source": [
    "from src.main.analysis.config import *\n",
    "print(f\"SCADA 数据路径: {SCADA_DATA_PATH}\")\n",
    "print(f\"故障数据路径: {FAULT_DATA_PATH}\")\n",
    "print(f\"时间窗口 (前): {WINDOW_BEFORE} 小时, (后): {WINDOW_AFTER} 小时\")"
   ]
  },
  {
   "cell_type": "markdown",
   "id": "aba6a1f6",
   "metadata": {},
   "source": [
    "## 2. 数据加载与概览\n",
    "\n",
    "`data_preprocessing` 模块的 `load_data()` 函数负责加载 SCADA 数据和故障数据，并查看基本信息。"
   ]
  },
  {
   "cell_type": "code",
   "execution_count": null,
   "id": "6ef03d29",
   "metadata": {},
   "outputs": [],
   "source": [
    "from src.main.analysis.data_preprocessing import load_data\n",
    "\n",
    "scada_data, fault_data = load_data()"
   ]
  },
  {
   "cell_type": "markdown",
   "id": "2946db1a",
   "metadata": {},
   "source": [
    "## 3. 数据预处理\n",
    "\n",
    "解析时间格式，清洗缺失值和重复值，将故障时间标签映射到 SCADA 记录上。"
   ]
  },
  {
   "cell_type": "code",
   "execution_count": null,
   "id": "185fd613",
   "metadata": {},
   "outputs": [],
   "source": [
    "from src.main.analysis.data_preprocessing import preprocess_data\n",
    "\n",
    "labeled_data, fault_distribution = preprocess_data(scada_data, fault_data)\n",
    "print(\"故障分布:\")\n",
    "print(fault_distribution)"
   ]
  },
  {
   "cell_type": "markdown",
   "id": "9cf54b9d",
   "metadata": {},
   "source": [
    "## 4. 特征工程\n",
    "\n",
    "使用滑动窗口生成统计特征，并添加季节性特征。"
   ]
  },
  {
   "cell_type": "code",
   "execution_count": null,
   "id": "59201db3",
   "metadata": {},
   "outputs": [],
   "source": [
    "from src.main.analysis.feature_engineering import extract_features\n",
    "\n",
    "features = extract_features(labeled_data)\n",
    "print(f\"特征维度: {features.shape}\")"
   ]
  },
  {
   "cell_type": "markdown",
   "id": "17dbf541",
   "metadata": {},
   "source": [
    "## 5. 准备训练数据\n",
    "\n",
    "将故障标签编码，并拆分为特征矩阵和标签向量。"
   ]
  },
  {
   "cell_type": "code",
   "execution_count": null,
   "id": "8361f11b",
   "metadata": {},
   "outputs": [],
   "source": [
    "from src.main.analysis.feature_engineering import prepare_features\n",
    "\n",
    "x, y, label_encoder = prepare_features(features)\n",
    "print(f\"X 维度: {x.shape}, y 样本数: {len(y)}\")"
   ]
  },
  {
   "cell_type": "markdown",
   "id": "c44f6a09",
   "metadata": {},
   "source": [
    "## 6. 数据分割\n",
    "\n",
    "按照设定的测试集比例将数据拆分为训练集和测试集。"
   ]
  },
  {
   "cell_type": "code",
   "execution_count": null,
   "id": "24e1124c",
   "metadata": {},
   "outputs": [],
   "source": [
    "from src.main.analysis.model_training import split_data\n",
    "\n",
    "x_train, x_test, y_train, y_test = split_data(x, y)\n",
    "print(f\"训练集样本: {x_train.shape[0]}, 测试集样本: {x_test.shape[0]}\")"
   ]
  },
  {
   "cell_type": "markdown",
   "id": "2fb77609",
   "metadata": {},
   "source": [
    "## 7. 特征选择\n",
    "\n",
    "使用随机森林评估特征重要性，并筛选重要特征。"
   ]
  },
  {
   "cell_type": "code",
   "execution_count": null,
   "id": "dcd787ec",
   "metadata": {},
   "outputs": [],
   "source": [
    "from src.main.analysis.feature_engineering import select_features\n",
    "\n",
    "x_train_sel, x_test_sel, scaler, selector, important_features = select_features(x_train, y_train, x_test)\n",
    "print(f\"选择后特征数: {x_train_sel.shape[1]}\")"
   ]
  },
  {
   "cell_type": "markdown",
   "id": "1de76c5c",
   "metadata": {},
   "source": [
    "## 8. 模型训练与评估\n",
    "\n",
    "训练多种机器学习模型并比较其性能，取最佳。"
   ]
  },
  {
   "cell_type": "code",
   "execution_count": null,
   "id": "9c9f9d7f",
   "metadata": {},
   "outputs": [],
   "source": [
    "from src.main.analysis.model_training import train_models\n",
    "\n",
    "best_model, best_model_name, best_acc, accuracies, y_test, y_pred = train_models(\n",
    "    x_train_sel, y_train, x_test_sel, y_test\n",
    ")\n",
    "print(f\"最佳模型: {best_model_name}, 准确率: {best_acc:.4f}\")"
   ]
  },
  {
   "metadata": {},
   "cell_type": "markdown",
   "source": [
    "## 9. 数据图像绘制\n",
    "\n",
    "将原始数据，模型训练数据，模型训练成果整理并绘图"
   ],
   "id": "e9a2b3a7928214da"
  },
  {
   "metadata": {},
   "cell_type": "code",
   "outputs": [],
   "execution_count": null,
   "source": [
    "from src.main.analysis.plot import graphics_drawing\n",
    "\n",
    "graphics_drawing(labeled_data, fault_distribution, best_model, best_model_name, accuracies, y_test, y_pred)"
   ],
   "id": "133756ba3a0247ef"
  },
  {
   "metadata": {},
   "cell_type": "markdown",
   "source": [
    "## 10. 仪表盘\n",
    "\n",
    "综合数据与图像呈现"
   ],
   "id": "cbf768feab781cca"
  },
  {
   "metadata": {},
   "cell_type": "code",
   "outputs": [],
   "execution_count": null,
   "source": [
    "from src.main.analysis.dashboard import app_start\n",
    "app_start()"
   ],
   "id": "d9b8bcd84659b468"
  },
  {
   "cell_type": "markdown",
   "id": "3a86d5a0",
   "metadata": {},
   "source": [
    "## 11. 模型保存与结果汇总\n",
    "\n",
    "保存最佳模型及预处理器，打印总结报告。"
   ]
  },
  {
   "cell_type": "code",
   "execution_count": null,
   "id": "570ba741",
   "metadata": {},
   "outputs": [],
   "source": [
    "from src.main.utils import save_model, print_summary\n",
    "\n",
    "save_model(best_model, scaler, selector, label_encoder)\n",
    "print_summary(\n",
    "    fault_distribution, features.shape, x_train_sel.shape[1],\n",
    "    important_features, best_model_name, best_acc, accuracies\n",
    ")"
   ]
  }
 ],
 "metadata": {},
 "nbformat": 4,
 "nbformat_minor": 5
}
